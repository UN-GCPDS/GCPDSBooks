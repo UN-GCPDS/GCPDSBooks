{
 "cells": [
  {
   "cell_type": "markdown",
   "metadata": {},
   "source": [
    "# Autoencode II: Convolución 2D\n",
    "\n",
    "La convolución en 2D es una operación matemática que se utiliza comúnmente en el procesamiento de imágenes y señales. Se define de la siguiente manera:\n",
    "\n",
    "### Definición Matemática\n",
    "\n",
    "Dadas dos funciones \\( f(x, y) \\) y \\( g(x, y) \\), la convolución en 2D de \\( f \\) y \\( g \\) se denota como \\( f \\ast g \\) y se define como:\n",
    "\n",
    "$$\n",
    "(f \\ast g)(x, y) = \\int_{-\\infty}^{\\infty} \\int_{-\\infty}^{\\infty} f(u, v) \\cdot g(x - u, y - v) \\, du \\, dv\n",
    "$$\n",
    "\n",
    "En el contexto de imágenes discretas, la definición anterior se convierte en una suma en lugar de una integral:\n",
    "\n",
    "$$\n",
    "(f \\ast g)(x, y) = \\sum_{m=-\\infty}^{\\infty} \\sum_{n=-\\infty}^{\\infty} f(m, n) \\cdot g(x - m, y - n)\n",
    "$$\n",
    "\n",
    "### Interpretación\n",
    "\n",
    "La convolución en 2D puede interpretarse como una forma de \"mezclar\" o \"combinar\" dos funciones. En el contexto del procesamiento de imágenes, una de estas funciones suele ser una imagen y la otra un filtro o kernel. La operación de convolución desliza el filtro sobre la imagen, calculando un valor ponderado en cada posición. Esto puede tener el efecto de suavizar, agudizar o detectar características en la imagen original.\n",
    "\n",
    "Por ejemplo, en el procesamiento de imágenes, los filtros de convolución se utilizan para operaciones como el desenfoque gaussiano, la detección de bordes y el realce de detalles.\n",
    "\n"
   ]
  },
  {
   "cell_type": "markdown",
   "metadata": {},
   "source": []
  }
 ],
 "metadata": {
  "language_info": {
   "name": "python"
  },
  "orig_nbformat": 4
 },
 "nbformat": 4,
 "nbformat_minor": 2
}
